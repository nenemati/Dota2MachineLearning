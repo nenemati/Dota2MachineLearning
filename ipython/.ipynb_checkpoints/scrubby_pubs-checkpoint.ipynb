{
 "cells": [
  {
   "cell_type": "code",
   "execution_count": 18,
   "metadata": {
    "collapsed": false
   },
   "outputs": [],
   "source": [
    "import pandas as pd\n",
    "import numpy as np\n",
    "import csv as csv\n",
    "from sklearn.tree import DecisionTreeRegressor\n",
    "from datetime import datetime\n",
    "import matplotlib.pyplot as plt\n",
    "\n",
    "%matplotlib inline"
   ]
  },
  {
   "cell_type": "code",
   "execution_count": 19,
   "metadata": {
    "collapsed": false
   },
   "outputs": [
    {
     "name": "stdout",
     "output_type": "stream",
     "text": [
      "(1590, 13)\n"
     ]
    }
   ],
   "source": [
    "# load the match history data\n",
    "train_df = pd.read_csv('data2.csv', header=0)\n",
    "train_df.columns = ['match_id', 'radiant_win', 'duration', 'hero_1_id', 'hero_2_id', 'hero_3_id', 'hero_4_id', 'hero_5_id', 'hero_6_id', 'hero_7_id', 'hero_8_id', 'hero_9_id', 'hero_10_id']\n",
    "print(train_df.shape)\n",
    "train_df.head()\n",
    "train_df = train_df.head()"
   ]
  },
  {
   "cell_type": "code",
   "execution_count": 20,
   "metadata": {
    "collapsed": false
   },
   "outputs": [
    {
     "data": {
      "text/html": [
       "<div>\n",
       "<table border=\"1\" class=\"dataframe\">\n",
       "  <thead>\n",
       "    <tr style=\"text-align: right;\">\n",
       "      <th></th>\n",
       "      <th>id</th>\n",
       "      <th>name</th>\n",
       "      <th>carry</th>\n",
       "      <th>support</th>\n",
       "      <th>nuker</th>\n",
       "      <th>disabler</th>\n",
       "      <th>jungler</th>\n",
       "      <th>durable</th>\n",
       "      <th>escape</th>\n",
       "      <th>pusher</th>\n",
       "      <th>initiator</th>\n",
       "    </tr>\n",
       "  </thead>\n",
       "  <tbody>\n",
       "    <tr>\n",
       "      <th>0</th>\n",
       "      <td>1</td>\n",
       "      <td>Anti-Mage</td>\n",
       "      <td>3</td>\n",
       "      <td>0</td>\n",
       "      <td>1</td>\n",
       "      <td>0</td>\n",
       "      <td>0</td>\n",
       "      <td>0</td>\n",
       "      <td>3</td>\n",
       "      <td>0</td>\n",
       "      <td>0</td>\n",
       "    </tr>\n",
       "    <tr>\n",
       "      <th>1</th>\n",
       "      <td>2</td>\n",
       "      <td>Axe</td>\n",
       "      <td>0</td>\n",
       "      <td>0</td>\n",
       "      <td>0</td>\n",
       "      <td>2</td>\n",
       "      <td>2</td>\n",
       "      <td>3</td>\n",
       "      <td>0</td>\n",
       "      <td>0</td>\n",
       "      <td>3</td>\n",
       "    </tr>\n",
       "    <tr>\n",
       "      <th>2</th>\n",
       "      <td>3</td>\n",
       "      <td>Bane</td>\n",
       "      <td>0</td>\n",
       "      <td>2</td>\n",
       "      <td>1</td>\n",
       "      <td>3</td>\n",
       "      <td>0</td>\n",
       "      <td>1</td>\n",
       "      <td>0</td>\n",
       "      <td>0</td>\n",
       "      <td>0</td>\n",
       "    </tr>\n",
       "    <tr>\n",
       "      <th>3</th>\n",
       "      <td>4</td>\n",
       "      <td>Bloodseeker</td>\n",
       "      <td>1</td>\n",
       "      <td>0</td>\n",
       "      <td>1</td>\n",
       "      <td>1</td>\n",
       "      <td>1</td>\n",
       "      <td>0</td>\n",
       "      <td>0</td>\n",
       "      <td>0</td>\n",
       "      <td>1</td>\n",
       "    </tr>\n",
       "    <tr>\n",
       "      <th>4</th>\n",
       "      <td>5</td>\n",
       "      <td>Crystal Maiden</td>\n",
       "      <td>0</td>\n",
       "      <td>3</td>\n",
       "      <td>2</td>\n",
       "      <td>2</td>\n",
       "      <td>1</td>\n",
       "      <td>0</td>\n",
       "      <td>0</td>\n",
       "      <td>0</td>\n",
       "      <td>0</td>\n",
       "    </tr>\n",
       "  </tbody>\n",
       "</table>\n",
       "</div>"
      ],
      "text/plain": [
       "   id            name  carry  support  nuker  disabler  jungler  durable  \\\n",
       "0   1       Anti-Mage      3        0      1         0        0        0   \n",
       "1   2             Axe      0        0      0         2        2        3   \n",
       "2   3            Bane      0        2      1         3        0        1   \n",
       "3   4     Bloodseeker      1        0      1         1        1        0   \n",
       "4   5  Crystal Maiden      0        3      2         2        1        0   \n",
       "\n",
       "   escape  pusher  initiator  \n",
       "0       3       0          0  \n",
       "1       0       0          3  \n",
       "2       0       0          0  \n",
       "3       0       0          1  \n",
       "4       0       0          0  "
      ]
     },
     "execution_count": 20,
     "metadata": {},
     "output_type": "execute_result"
    }
   ],
   "source": [
    "# load the hero data\n",
    "hero_df = pd.read_csv('heroes_data.csv', header=0)\n",
    "hero_df.columns = ['id', 'name', 'carry', 'support', 'nuker', 'disabler', 'jungler', 'durable', 'escape', 'pusher', 'initiator']\n",
    "hero_df.head()"
   ]
  },
  {
   "cell_type": "markdown",
   "metadata": {},
   "source": [
    "# CREATING/EXTRACTING A NEW FEATURE"
   ]
  },
  {
   "cell_type": "code",
   "execution_count": 23,
   "metadata": {
    "collapsed": false
   },
   "outputs": [
    {
     "data": {
      "text/html": [
       "<div>\n",
       "<table border=\"1\" class=\"dataframe\">\n",
       "  <thead>\n",
       "    <tr style=\"text-align: right;\">\n",
       "      <th></th>\n",
       "      <th>match_id</th>\n",
       "      <th>radiant_win</th>\n",
       "      <th>duration</th>\n",
       "      <th>hero_1_id</th>\n",
       "      <th>hero_2_id</th>\n",
       "      <th>hero_3_id</th>\n",
       "      <th>hero_4_id</th>\n",
       "      <th>hero_5_id</th>\n",
       "      <th>hero_6_id</th>\n",
       "      <th>hero_7_id</th>\n",
       "      <th>...</th>\n",
       "      <th>hero_9_id</th>\n",
       "      <th>hero_10_id</th>\n",
       "      <th>radiant_carry_total</th>\n",
       "      <th>radiant_carry_max</th>\n",
       "      <th>radiant_carry_min</th>\n",
       "      <th>radiant_carry_mean</th>\n",
       "      <th>dire_carry_total</th>\n",
       "      <th>dire_carry_max</th>\n",
       "      <th>dire_carry_min</th>\n",
       "      <th>dire_carry_mean</th>\n",
       "    </tr>\n",
       "  </thead>\n",
       "  <tbody>\n",
       "    <tr>\n",
       "      <th>0</th>\n",
       "      <td>1729093401</td>\n",
       "      <td>False</td>\n",
       "      <td>2549</td>\n",
       "      <td>73</td>\n",
       "      <td>27</td>\n",
       "      <td>86</td>\n",
       "      <td>8</td>\n",
       "      <td>7</td>\n",
       "      <td>41</td>\n",
       "      <td>36</td>\n",
       "      <td>...</td>\n",
       "      <td>30</td>\n",
       "      <td>25</td>\n",
       "      <td>4</td>\n",
       "      <td>2</td>\n",
       "      <td>0</td>\n",
       "      <td>0.8</td>\n",
       "      <td>5</td>\n",
       "      <td>2</td>\n",
       "      <td>0</td>\n",
       "      <td>1.0</td>\n",
       "    </tr>\n",
       "    <tr>\n",
       "      <th>1</th>\n",
       "      <td>1729093402</td>\n",
       "      <td>False</td>\n",
       "      <td>2960</td>\n",
       "      <td>41</td>\n",
       "      <td>100</td>\n",
       "      <td>52</td>\n",
       "      <td>105</td>\n",
       "      <td>14</td>\n",
       "      <td>15</td>\n",
       "      <td>53</td>\n",
       "      <td>...</td>\n",
       "      <td>104</td>\n",
       "      <td>25</td>\n",
       "      <td>3</td>\n",
       "      <td>2</td>\n",
       "      <td>0</td>\n",
       "      <td>0.6</td>\n",
       "      <td>7</td>\n",
       "      <td>2</td>\n",
       "      <td>1</td>\n",
       "      <td>1.4</td>\n",
       "    </tr>\n",
       "    <tr>\n",
       "      <th>2</th>\n",
       "      <td>1729093430</td>\n",
       "      <td>True</td>\n",
       "      <td>2580</td>\n",
       "      <td>104</td>\n",
       "      <td>51</td>\n",
       "      <td>46</td>\n",
       "      <td>21</td>\n",
       "      <td>55</td>\n",
       "      <td>68</td>\n",
       "      <td>44</td>\n",
       "      <td>...</td>\n",
       "      <td>57</td>\n",
       "      <td>74</td>\n",
       "      <td>4</td>\n",
       "      <td>2</td>\n",
       "      <td>0</td>\n",
       "      <td>0.8</td>\n",
       "      <td>6</td>\n",
       "      <td>3</td>\n",
       "      <td>0</td>\n",
       "      <td>1.2</td>\n",
       "    </tr>\n",
       "    <tr>\n",
       "      <th>3</th>\n",
       "      <td>1729093432</td>\n",
       "      <td>False</td>\n",
       "      <td>2409</td>\n",
       "      <td>35</td>\n",
       "      <td>70</td>\n",
       "      <td>41</td>\n",
       "      <td>25</td>\n",
       "      <td>105</td>\n",
       "      <td>6</td>\n",
       "      <td>73</td>\n",
       "      <td>...</td>\n",
       "      <td>68</td>\n",
       "      <td>21</td>\n",
       "      <td>8</td>\n",
       "      <td>3</td>\n",
       "      <td>0</td>\n",
       "      <td>1.6</td>\n",
       "      <td>7</td>\n",
       "      <td>2</td>\n",
       "      <td>0</td>\n",
       "      <td>1.4</td>\n",
       "    </tr>\n",
       "    <tr>\n",
       "      <th>4</th>\n",
       "      <td>1729093433</td>\n",
       "      <td>False</td>\n",
       "      <td>3272</td>\n",
       "      <td>112</td>\n",
       "      <td>9</td>\n",
       "      <td>25</td>\n",
       "      <td>21</td>\n",
       "      <td>2</td>\n",
       "      <td>98</td>\n",
       "      <td>101</td>\n",
       "      <td>...</td>\n",
       "      <td>71</td>\n",
       "      <td>8</td>\n",
       "      <td>3</td>\n",
       "      <td>1</td>\n",
       "      <td>0</td>\n",
       "      <td>0.6</td>\n",
       "      <td>3</td>\n",
       "      <td>2</td>\n",
       "      <td>0</td>\n",
       "      <td>0.6</td>\n",
       "    </tr>\n",
       "  </tbody>\n",
       "</table>\n",
       "<p>5 rows × 21 columns</p>\n",
       "</div>"
      ],
      "text/plain": [
       "     match_id radiant_win  duration  hero_1_id  hero_2_id  hero_3_id  \\\n",
       "0  1729093401       False      2549         73         27         86   \n",
       "1  1729093402       False      2960         41        100         52   \n",
       "2  1729093430        True      2580        104         51         46   \n",
       "3  1729093432       False      2409         35         70         41   \n",
       "4  1729093433       False      3272        112          9         25   \n",
       "\n",
       "   hero_4_id  hero_5_id  hero_6_id  hero_7_id       ...         hero_9_id  \\\n",
       "0          8          7         41         36       ...                30   \n",
       "1        105         14         15         53       ...               104   \n",
       "2         21         55         68         44       ...                57   \n",
       "3         25        105          6         73       ...                68   \n",
       "4         21          2         98        101       ...                71   \n",
       "\n",
       "   hero_10_id  radiant_carry_total  radiant_carry_max  radiant_carry_min  \\\n",
       "0          25                    4                  2                  0   \n",
       "1          25                    3                  2                  0   \n",
       "2          74                    4                  2                  0   \n",
       "3          21                    8                  3                  0   \n",
       "4           8                    3                  1                  0   \n",
       "\n",
       "   radiant_carry_mean  dire_carry_total  dire_carry_max  dire_carry_min  \\\n",
       "0                 0.8                 5               2               0   \n",
       "1                 0.6                 7               2               1   \n",
       "2                 0.8                 6               3               0   \n",
       "3                 1.6                 7               2               0   \n",
       "4                 0.6                 3               2               0   \n",
       "\n",
       "   dire_carry_mean  \n",
       "0              1.0  \n",
       "1              1.4  \n",
       "2              1.2  \n",
       "3              1.4  \n",
       "4              0.6  \n",
       "\n",
       "[5 rows x 21 columns]"
      ]
     },
     "execution_count": 23,
     "metadata": {},
     "output_type": "execute_result"
    }
   ],
   "source": [
    "def calculate_carry_total(h1, h2, h3, h4, h5):\n",
    "    carry_total = 0\n",
    "    for n in hero_df.iterrows():\n",
    "        if(n[1]['id'] == h1 or n[1]['id'] == h2 or n[1]['id'] == h3 or n[1]['id'] == h4 or n[1]['id'] == h5):\n",
    "            carry_total += n[1]['carry']\n",
    "    return carry_total\n",
    "\n",
    "def calculate_carry_max(h1, h2, h3, h4, h5):\n",
    "    carry_max = 0\n",
    "    for n in hero_df.iterrows():\n",
    "        if(n[1]['id'] == h1 or n[1]['id'] == h2 or n[1]['id'] == h3 or n[1]['id'] == h4 or n[1]['id'] == h5):\n",
    "            carry_max = max(carry_max, n[1]['carry'])\n",
    "    return carry_max\n",
    "\n",
    "def calculate_carry_min(h1, h2, h3, h4, h5):\n",
    "    carry_min = 4\n",
    "    for n in hero_df.iterrows():\n",
    "        if(n[1]['id'] == h1 or n[1]['id'] == h2 or n[1]['id'] == h3 or n[1]['id'] == h4 or n[1]['id'] == h5):\n",
    "            carry_min = min(carry_min, n[1]['carry'])\n",
    "    return carry_min\n",
    "\n",
    "def calculate_carry_mean(h1, h2, h3, h4, h5):\n",
    "    return calculate_carry_total(h1, h2, h3, h4, h5)/5\n",
    "\n",
    "train_df['radiant_carry_total']  = train_df.apply(lambda row: calculate_carry_total(row['hero_1_id'], row['hero_2_id'], row['hero_3_id'], row['hero_4_id'], row['hero_5_id']), axis=1)\n",
    "train_df['radiant_carry_max']    = train_df.apply(lambda row: calculate_carry_max(row['hero_1_id'], row['hero_2_id'], row['hero_3_id'], row['hero_4_id'], row['hero_5_id']), axis=1)\n",
    "train_df['radiant_carry_min']    = train_df.apply(lambda row: calculate_carry_min(row['hero_1_id'], row['hero_2_id'], row['hero_3_id'], row['hero_4_id'], row['hero_5_id']), axis=1)\n",
    "train_df['radiant_carry_mean']   = train_df.apply(lambda row: calculate_carry_mean(row['hero_1_id'], row['hero_2_id'], row['hero_3_id'], row['hero_4_id'], row['hero_5_id']), axis=1)\n",
    "\n",
    "train_df['dire_carry_total'] = train_df.apply(lambda row: calculate_carry_total(row['hero_6_id'], row['hero_7_id'], row['hero_8_id'], row['hero_9_id'], row['hero_10_id']), axis=1)\n",
    "train_df['dire_carry_max']   = train_df.apply(lambda row: calculate_carry_max(row['hero_6_id'], row['hero_7_id'], row['hero_8_id'], row['hero_9_id'], row['hero_10_id']), axis=1)\n",
    "train_df['dire_carry_min']   = train_df.apply(lambda row: calculate_carry_min(row['hero_6_id'], row['hero_7_id'], row['hero_8_id'], row['hero_9_id'], row['hero_10_id']), axis=1)\n",
    "train_df['dire_carry_mean']  = train_df.apply(lambda row: calculate_carry_mean(row['hero_6_id'], row['hero_7_id'], row['hero_8_id'], row['hero_9_id'], row['hero_10_id']), axis=1)\n",
    "\n",
    "train_df.head()"
   ]
  },
  {
   "cell_type": "code",
   "execution_count": null,
   "metadata": {
    "collapsed": true
   },
   "outputs": [],
   "source": []
  },
  {
   "cell_type": "code",
   "execution_count": 37,
   "metadata": {
    "collapsed": false
   },
   "outputs": [
    {
     "ename": "KeyError",
     "evalue": "'tod'",
     "output_type": "error",
     "traceback": [
      "\u001b[1;31m---------------------------------------------------------------------------\u001b[0m",
      "\u001b[1;31mKeyError\u001b[0m                                  Traceback (most recent call last)",
      "\u001b[1;32m<ipython-input-37-f124fc67eead>\u001b[0m in \u001b[0;36m<module>\u001b[1;34m()\u001b[0m\n\u001b[0;32m      1\u001b[0m \u001b[1;31m# now see mean counts per hour\u001b[0m\u001b[1;33m\u001b[0m\u001b[1;33m\u001b[0m\u001b[0m\n\u001b[1;32m----> 2\u001b[1;33m \u001b[0mhours\u001b[0m \u001b[1;33m=\u001b[0m \u001b[0mnp\u001b[0m\u001b[1;33m.\u001b[0m\u001b[0munique\u001b[0m\u001b[1;33m(\u001b[0m\u001b[0mtrain_df\u001b[0m\u001b[1;33m[\u001b[0m\u001b[1;34m'tod'\u001b[0m\u001b[1;33m]\u001b[0m\u001b[1;33m)\u001b[0m\u001b[1;33m\u001b[0m\u001b[0m\n\u001b[0m\u001b[0;32m      3\u001b[0m \u001b[0mprint\u001b[0m\u001b[1;33m(\u001b[0m\u001b[0mhours\u001b[0m\u001b[1;33m)\u001b[0m\u001b[1;33m\u001b[0m\u001b[0m\n\u001b[0;32m      4\u001b[0m \u001b[1;33m\u001b[0m\u001b[0m\n\u001b[0;32m      5\u001b[0m \u001b[0mhours_mean\u001b[0m \u001b[1;33m=\u001b[0m \u001b[1;33m{\u001b[0m\u001b[1;33m}\u001b[0m\u001b[1;33m\u001b[0m\u001b[0m\n",
      "\u001b[1;32mC:\\Users\\Brian Gathright\\Anaconda3\\lib\\site-packages\\pandas\\core\\frame.py\u001b[0m in \u001b[0;36m__getitem__\u001b[1;34m(self, key)\u001b[0m\n\u001b[0;32m   1795\u001b[0m             \u001b[1;32mreturn\u001b[0m \u001b[0mself\u001b[0m\u001b[1;33m.\u001b[0m\u001b[0m_getitem_multilevel\u001b[0m\u001b[1;33m(\u001b[0m\u001b[0mkey\u001b[0m\u001b[1;33m)\u001b[0m\u001b[1;33m\u001b[0m\u001b[0m\n\u001b[0;32m   1796\u001b[0m         \u001b[1;32melse\u001b[0m\u001b[1;33m:\u001b[0m\u001b[1;33m\u001b[0m\u001b[0m\n\u001b[1;32m-> 1797\u001b[1;33m             \u001b[1;32mreturn\u001b[0m \u001b[0mself\u001b[0m\u001b[1;33m.\u001b[0m\u001b[0m_getitem_column\u001b[0m\u001b[1;33m(\u001b[0m\u001b[0mkey\u001b[0m\u001b[1;33m)\u001b[0m\u001b[1;33m\u001b[0m\u001b[0m\n\u001b[0m\u001b[0;32m   1798\u001b[0m \u001b[1;33m\u001b[0m\u001b[0m\n\u001b[0;32m   1799\u001b[0m     \u001b[1;32mdef\u001b[0m \u001b[0m_getitem_column\u001b[0m\u001b[1;33m(\u001b[0m\u001b[0mself\u001b[0m\u001b[1;33m,\u001b[0m \u001b[0mkey\u001b[0m\u001b[1;33m)\u001b[0m\u001b[1;33m:\u001b[0m\u001b[1;33m\u001b[0m\u001b[0m\n",
      "\u001b[1;32mC:\\Users\\Brian Gathright\\Anaconda3\\lib\\site-packages\\pandas\\core\\frame.py\u001b[0m in \u001b[0;36m_getitem_column\u001b[1;34m(self, key)\u001b[0m\n\u001b[0;32m   1802\u001b[0m         \u001b[1;31m# get column\u001b[0m\u001b[1;33m\u001b[0m\u001b[1;33m\u001b[0m\u001b[0m\n\u001b[0;32m   1803\u001b[0m         \u001b[1;32mif\u001b[0m \u001b[0mself\u001b[0m\u001b[1;33m.\u001b[0m\u001b[0mcolumns\u001b[0m\u001b[1;33m.\u001b[0m\u001b[0mis_unique\u001b[0m\u001b[1;33m:\u001b[0m\u001b[1;33m\u001b[0m\u001b[0m\n\u001b[1;32m-> 1804\u001b[1;33m             \u001b[1;32mreturn\u001b[0m \u001b[0mself\u001b[0m\u001b[1;33m.\u001b[0m\u001b[0m_get_item_cache\u001b[0m\u001b[1;33m(\u001b[0m\u001b[0mkey\u001b[0m\u001b[1;33m)\u001b[0m\u001b[1;33m\u001b[0m\u001b[0m\n\u001b[0m\u001b[0;32m   1805\u001b[0m \u001b[1;33m\u001b[0m\u001b[0m\n\u001b[0;32m   1806\u001b[0m         \u001b[1;31m# duplicate columns & possible reduce dimensionaility\u001b[0m\u001b[1;33m\u001b[0m\u001b[1;33m\u001b[0m\u001b[0m\n",
      "\u001b[1;32mC:\\Users\\Brian Gathright\\Anaconda3\\lib\\site-packages\\pandas\\core\\generic.py\u001b[0m in \u001b[0;36m_get_item_cache\u001b[1;34m(self, item)\u001b[0m\n\u001b[0;32m   1082\u001b[0m         \u001b[0mres\u001b[0m \u001b[1;33m=\u001b[0m \u001b[0mcache\u001b[0m\u001b[1;33m.\u001b[0m\u001b[0mget\u001b[0m\u001b[1;33m(\u001b[0m\u001b[0mitem\u001b[0m\u001b[1;33m)\u001b[0m\u001b[1;33m\u001b[0m\u001b[0m\n\u001b[0;32m   1083\u001b[0m         \u001b[1;32mif\u001b[0m \u001b[0mres\u001b[0m \u001b[1;32mis\u001b[0m \u001b[1;32mNone\u001b[0m\u001b[1;33m:\u001b[0m\u001b[1;33m\u001b[0m\u001b[0m\n\u001b[1;32m-> 1084\u001b[1;33m             \u001b[0mvalues\u001b[0m \u001b[1;33m=\u001b[0m \u001b[0mself\u001b[0m\u001b[1;33m.\u001b[0m\u001b[0m_data\u001b[0m\u001b[1;33m.\u001b[0m\u001b[0mget\u001b[0m\u001b[1;33m(\u001b[0m\u001b[0mitem\u001b[0m\u001b[1;33m)\u001b[0m\u001b[1;33m\u001b[0m\u001b[0m\n\u001b[0m\u001b[0;32m   1085\u001b[0m             \u001b[0mres\u001b[0m \u001b[1;33m=\u001b[0m \u001b[0mself\u001b[0m\u001b[1;33m.\u001b[0m\u001b[0m_box_item_values\u001b[0m\u001b[1;33m(\u001b[0m\u001b[0mitem\u001b[0m\u001b[1;33m,\u001b[0m \u001b[0mvalues\u001b[0m\u001b[1;33m)\u001b[0m\u001b[1;33m\u001b[0m\u001b[0m\n\u001b[0;32m   1086\u001b[0m             \u001b[0mcache\u001b[0m\u001b[1;33m[\u001b[0m\u001b[0mitem\u001b[0m\u001b[1;33m]\u001b[0m \u001b[1;33m=\u001b[0m \u001b[0mres\u001b[0m\u001b[1;33m\u001b[0m\u001b[0m\n",
      "\u001b[1;32mC:\\Users\\Brian Gathright\\Anaconda3\\lib\\site-packages\\pandas\\core\\internals.py\u001b[0m in \u001b[0;36mget\u001b[1;34m(self, item, fastpath)\u001b[0m\n\u001b[0;32m   2849\u001b[0m \u001b[1;33m\u001b[0m\u001b[0m\n\u001b[0;32m   2850\u001b[0m             \u001b[1;32mif\u001b[0m \u001b[1;32mnot\u001b[0m \u001b[0misnull\u001b[0m\u001b[1;33m(\u001b[0m\u001b[0mitem\u001b[0m\u001b[1;33m)\u001b[0m\u001b[1;33m:\u001b[0m\u001b[1;33m\u001b[0m\u001b[0m\n\u001b[1;32m-> 2851\u001b[1;33m                 \u001b[0mloc\u001b[0m \u001b[1;33m=\u001b[0m \u001b[0mself\u001b[0m\u001b[1;33m.\u001b[0m\u001b[0mitems\u001b[0m\u001b[1;33m.\u001b[0m\u001b[0mget_loc\u001b[0m\u001b[1;33m(\u001b[0m\u001b[0mitem\u001b[0m\u001b[1;33m)\u001b[0m\u001b[1;33m\u001b[0m\u001b[0m\n\u001b[0m\u001b[0;32m   2852\u001b[0m             \u001b[1;32melse\u001b[0m\u001b[1;33m:\u001b[0m\u001b[1;33m\u001b[0m\u001b[0m\n\u001b[0;32m   2853\u001b[0m                 \u001b[0mindexer\u001b[0m \u001b[1;33m=\u001b[0m \u001b[0mnp\u001b[0m\u001b[1;33m.\u001b[0m\u001b[0marange\u001b[0m\u001b[1;33m(\u001b[0m\u001b[0mlen\u001b[0m\u001b[1;33m(\u001b[0m\u001b[0mself\u001b[0m\u001b[1;33m.\u001b[0m\u001b[0mitems\u001b[0m\u001b[1;33m)\u001b[0m\u001b[1;33m)\u001b[0m\u001b[1;33m[\u001b[0m\u001b[0misnull\u001b[0m\u001b[1;33m(\u001b[0m\u001b[0mself\u001b[0m\u001b[1;33m.\u001b[0m\u001b[0mitems\u001b[0m\u001b[1;33m)\u001b[0m\u001b[1;33m]\u001b[0m\u001b[1;33m\u001b[0m\u001b[0m\n",
      "\u001b[1;32mC:\\Users\\Brian Gathright\\Anaconda3\\lib\\site-packages\\pandas\\core\\index.py\u001b[0m in \u001b[0;36mget_loc\u001b[1;34m(self, key, method)\u001b[0m\n\u001b[0;32m   1570\u001b[0m         \"\"\"\n\u001b[0;32m   1571\u001b[0m         \u001b[1;32mif\u001b[0m \u001b[0mmethod\u001b[0m \u001b[1;32mis\u001b[0m \u001b[1;32mNone\u001b[0m\u001b[1;33m:\u001b[0m\u001b[1;33m\u001b[0m\u001b[0m\n\u001b[1;32m-> 1572\u001b[1;33m             \u001b[1;32mreturn\u001b[0m \u001b[0mself\u001b[0m\u001b[1;33m.\u001b[0m\u001b[0m_engine\u001b[0m\u001b[1;33m.\u001b[0m\u001b[0mget_loc\u001b[0m\u001b[1;33m(\u001b[0m\u001b[0m_values_from_object\u001b[0m\u001b[1;33m(\u001b[0m\u001b[0mkey\u001b[0m\u001b[1;33m)\u001b[0m\u001b[1;33m)\u001b[0m\u001b[1;33m\u001b[0m\u001b[0m\n\u001b[0m\u001b[0;32m   1573\u001b[0m \u001b[1;33m\u001b[0m\u001b[0m\n\u001b[0;32m   1574\u001b[0m         \u001b[0mindexer\u001b[0m \u001b[1;33m=\u001b[0m \u001b[0mself\u001b[0m\u001b[1;33m.\u001b[0m\u001b[0mget_indexer\u001b[0m\u001b[1;33m(\u001b[0m\u001b[1;33m[\u001b[0m\u001b[0mkey\u001b[0m\u001b[1;33m]\u001b[0m\u001b[1;33m,\u001b[0m \u001b[0mmethod\u001b[0m\u001b[1;33m=\u001b[0m\u001b[0mmethod\u001b[0m\u001b[1;33m)\u001b[0m\u001b[1;33m\u001b[0m\u001b[0m\n",
      "\u001b[1;32mpandas\\index.pyx\u001b[0m in \u001b[0;36mpandas.index.IndexEngine.get_loc (pandas\\index.c:3824)\u001b[1;34m()\u001b[0m\n",
      "\u001b[1;32mpandas\\index.pyx\u001b[0m in \u001b[0;36mpandas.index.IndexEngine.get_loc (pandas\\index.c:3704)\u001b[1;34m()\u001b[0m\n",
      "\u001b[1;32mpandas\\hashtable.pyx\u001b[0m in \u001b[0;36mpandas.hashtable.PyObjectHashTable.get_item (pandas\\hashtable.c:12280)\u001b[1;34m()\u001b[0m\n",
      "\u001b[1;32mpandas\\hashtable.pyx\u001b[0m in \u001b[0;36mpandas.hashtable.PyObjectHashTable.get_item (pandas\\hashtable.c:12231)\u001b[1;34m()\u001b[0m\n",
      "\u001b[1;31mKeyError\u001b[0m: 'tod'"
     ]
    }
   ],
   "source": [
    "# now see mean counts per hour\n",
    "hours = np.unique(train_df['tod'])\n",
    "print(hours)\n",
    "\n",
    "hours_mean = {}\n",
    "for h in hours:\n",
    "    # data frame at only a certain time of day\n",
    "    temp_df = train_df.loc[train_df['tod'] == h]\n",
    "    hours_mean[h] = temp_df['count'].mean()\n",
    "\n",
    "plt.bar(hours,[hours_mean[h] for h in hours])"
   ]
  },
  {
   "cell_type": "markdown",
   "metadata": {},
   "source": [
    "# perform regression (starting with simple sanity check)"
   ]
  },
  {
   "cell_type": "code",
   "execution_count": 8,
   "metadata": {
    "collapsed": false
   },
   "outputs": [
    {
     "name": "stdout",
     "output_type": "stream",
     "text": [
      "RMS error (likely overfitting): 11.5444911581\n"
     ]
    },
    {
     "data": {
      "image/png": "[encoded data removed]",
      "text/plain": [
       "<matplotlib.figure.Figure at 0xa3ab00>"
      ]
     },
     "metadata": {},
     "output_type": "display_data"
    }
   ],
   "source": [
    "# from here, I add my own code\n",
    "# first, let's test the fit for casual and registered; meanwhile, I add other features in the column\n",
    "# the purpose of this test is to figure out whether we can improve accuracy if break down count into register and casual\n",
    "\n",
    "#col = ['temp']\n",
    "#col = ['tod']\n",
    "#col = ['tod','temp']\n",
    "#col = ['tod','season','workingday']\n",
    "col = ['tod','season','workingday','temp','holiday','weather','atemp','humidity','windspeed']\n",
    "\n",
    "# fit the model to the casual data\n",
    "model_casual = DecisionTreeRegressor(min_samples_split = 10)\n",
    "model_casual = model_casual.fit( train_df[col], train_df['casual'])\n",
    "\n",
    "# observe the prediction (on the training data: LIKELY OVERFITTING)\n",
    "pred_casual = model_casual.predict(train_df[col])\n",
    "plt.hold('on')\n",
    "plt.plot(range(24),pred_casual[0:24])\n",
    "plt.plot(range(24),train_df['casual'][0:24])\n",
    "plt.hold('off')\n",
    "plt.legend(['prediction','actual'])\n",
    "\n",
    "# score the model (PROBABLY OVERFITTING)\n",
    "rms = np.sqrt(np.mean(np.square(pred_casual - train_df['casual'])))\n",
    "print(\"RMS error (likely overfitting):\",rms)"
   ]
  },
  {
   "cell_type": "code",
   "execution_count": 9,
   "metadata": {
    "collapsed": false
   },
   "outputs": [
    {
     "name": "stdout",
     "output_type": "stream",
     "text": [
      "RMS error (likely overfitting): 36.3866516217\n"
     ]
    },
    {
     "data": {
      "image/png": "[encoded data removed]",
      "text/plain": [
       "<matplotlib.figure.Figure at 0x9ae0b8>"
      ]
     },
     "metadata": {},
     "output_type": "display_data"
    }
   ],
   "source": [
    "#col = ['tod','season','workingday','temp','holiday','weather','atemp','humidity','windspeed']\n",
    "\n",
    "# fit the model to the registered data\n",
    "model_registered = DecisionTreeRegressor(min_samples_split = 10)\n",
    "model_registered = model_registered.fit( train_df[col], train_df['registered'])\n",
    "\n",
    "# observe the prediction (on the training data: LIKELY OVERFITTING)\n",
    "pred_registered = model_registered.predict(train_df[col])\n",
    "plt.hold('on')\n",
    "plt.plot(range(24),pred_registered[0:24])\n",
    "plt.plot(range(24),train_df['registered'][0:24])\n",
    "plt.hold('off')\n",
    "plt.legend(['prediction','actual'])\n",
    "\n",
    "# score the model (PROBABLY OVERFITTING)\n",
    "rms = np.sqrt(np.mean(np.square(pred_registered - train_df['registered'])))\n",
    "print(\"RMS error (likely overfitting):\",rms)"
   ]
  },
  {
   "cell_type": "code",
   "execution_count": 10,
   "metadata": {
    "collapsed": false
   },
   "outputs": [
    {
     "name": "stdout",
     "output_type": "stream",
     "text": [
      "RMS error (likely overfitting): 39.7861110826\n"
     ]
    },
    {
     "data": {
      "image/png": "[encoded data removed]",
      "text/plain": [
       "<matplotlib.figure.Figure at 0xa05f748>"
      ]
     },
     "metadata": {},
     "output_type": "display_data"
    }
   ],
   "source": [
    "# it proves separating reegistered and casual for count is good \n",
    "# now let's plot the picture to compare for count\n",
    "\n",
    "# observe the prediction (on the training data: LIKELY OVERFITTING)\n",
    "pred_count = pred_casual+pred_registered\n",
    "plt.hold('on')\n",
    "plt.plot(range(24),pred_count[0:24])\n",
    "plt.plot(range(24),train_df['count'][0:24])\n",
    "plt.hold('off')\n",
    "plt.legend(['prediction','actual'])\n",
    "\n",
    "# score the model (PROBABLY OVERFITTING)\n",
    "rms = np.sqrt(np.mean(np.square(pred_count - train_df['count'])))\n",
    "print(\"RMS error (likely overfitting):\",rms)"
   ]
  },
  {
   "cell_type": "markdown",
   "metadata": {},
   "source": [
    "# cross validation for model checking"
   ]
  },
  {
   "cell_type": "code",
   "execution_count": 11,
   "metadata": {
    "collapsed": false
   },
   "outputs": [
    {
     "name": "stdout",
     "output_type": "stream",
     "text": [
      "# Tuning hyper-parameters for mean_squared_error\n",
      "Best parameters set found on development set:\n",
      "\n",
      "DecisionTreeRegressor(criterion='mse', max_depth=None, max_features=None,\n",
      "           max_leaf_nodes=None, min_samples_leaf=1, min_samples_split=100,\n",
      "           min_weight_fraction_leaf=0.0, random_state=None,\n",
      "           splitter='best') \n",
      "\n",
      "Grid scores on development set:\n",
      "\n",
      "33.501 (+/-4.076) for {'min_samples_split': 2}\n",
      "31.052 (+/-3.855) for {'min_samples_split': 10}\n",
      "27.033 (+/-3.916) for {'min_samples_split': 100}\n",
      "36.651 (+/-5.598) for {'min_samples_split': 1000}\n",
      "50.447 (+/-6.965) for {'min_samples_split': 10000}\n",
      "50.447 (+/-6.965) for {'min_samples_split': 100000}\n"
     ]
    }
   ],
   "source": [
    "# from here let me use grid search to predict casual and registered then add them up\n",
    "\n",
    "from sklearn.grid_search import GridSearchCV\n",
    "\n",
    "# Set the parameters by cross-validation\n",
    "tuned_parameters = [{'min_samples_split': [2, 10, 100, 1000, 10000, 100000]}]\n",
    "\n",
    "score = 'mean_squared_error'\n",
    "print(\"# Tuning hyper-parameters for %s\" % score)\n",
    "\n",
    "# here to improve accuracy, I choose CV=10, original code CV=5; the following below is for casual\n",
    "# here results show 27 (minimum) which is acceptable \n",
    "clf_casual = GridSearchCV(DecisionTreeRegressor(), tuned_parameters, \n",
    "                   cv=10, scoring=score)\n",
    "clf_casual.fit(train_df[col], train_df['casual'])\n",
    "\n",
    "print(\"Best parameters set found on development set:\\n\")\n",
    "print(clf_casual.best_estimator_,\"\\n\")\n",
    "print(\"Grid scores on development set:\\n\")\n",
    "for params, mean_score, scores in clf_casual.grid_scores_:\n",
    "    print(\"%0.3f (+/-%0.03f) for %r\"\n",
    "          % (np.sqrt(np.abs(scores).mean()), np.sqrt(np.abs(scores)).std() / 2, params))"
   ]
  },
  {
   "cell_type": "code",
   "execution_count": 12,
   "metadata": {
    "collapsed": false
   },
   "outputs": [
    {
     "name": "stdout",
     "output_type": "stream",
     "text": [
      "Best parameters set found on development set:\n",
      "\n",
      "DecisionTreeRegressor(criterion='mse', max_depth=None, max_features=None,\n",
      "           max_leaf_nodes=None, min_samples_leaf=1, min_samples_split=100,\n",
      "           min_weight_fraction_leaf=0.0, random_state=None,\n",
      "           splitter='best') \n",
      "\n",
      "Grid scores on development set:\n",
      "\n",
      "102.362 (+/-4.197) for {'min_samples_split': 2}\n",
      "96.414 (+/-3.660) for {'min_samples_split': 10}\n",
      "91.339 (+/-6.449) for {'min_samples_split': 100}\n",
      "118.702 (+/-11.614) for {'min_samples_split': 1000}\n",
      "153.155 (+/-18.551) for {'min_samples_split': 10000}\n",
      "153.155 (+/-18.551) for {'min_samples_split': 100000}\n"
     ]
    }
   ],
   "source": [
    "# here to improve accuracy, I choose CV=5 to save computation time; the following below is for registered\n",
    "# I tried decision tree method, but mean score reaches to 91 (minimum), SVM not so good either 147(minimum)\n",
    "# so I modify classifier as Linear regression, it is still very time-consuming computation\n",
    "from sklearn import svm, linear_model\n",
    "from sklearn.svm import SVC\n",
    "\n",
    "#adjust parameters\n",
    "#tuned_parameters_2 = {'kernel': ['rbf'], 'gamma': [1e-2,1e-3,1e-4]}\n",
    "#tuned_parameters_2 = {'penalty':['l1'],'C': [0.01,0.1,1,10]}\n",
    "\n",
    "# so just choose back decision tree with CV=10\n",
    "#clf_registered = GridSearchCV(SVC(C=1), tuned_parameters_2, cv=5, scoring=score)\n",
    "clf_registered = GridSearchCV(DecisionTreeRegressor(), tuned_parameters, \n",
    "                  cv=10, scoring=score)\n",
    "\n",
    "#clf_registered = GridSearchCV(linear_model.LogisticRegression(C=0.01), tuned_parameters_2, cv=5, scoring=score)\n",
    "\n",
    "clf_registered.fit(train_df[col], train_df['registered'])\n",
    "\n",
    "print(\"Best parameters set found on development set:\\n\")\n",
    "print(clf_registered.best_estimator_,\"\\n\")\n",
    "print(\"Grid scores on development set:\\n\")\n",
    "for params, mean_score, scores in clf_registered.grid_scores_:\n",
    "    print(\"%0.3f (+/-%0.03f) for %r\"\n",
    "          % (np.sqrt(np.abs(scores).mean()), np.sqrt(np.abs(scores)).std() / 2, params))\n",
    "    \n",
    "# based on the other classifiers' performance, seems only decision tree works well, so suggest random forest to \n",
    "#improve results later"
   ]
  },
  {
   "cell_type": "markdown",
   "metadata": {},
   "source": [
    "# creating the test file output"
   ]
  },
  {
   "cell_type": "code",
   "execution_count": 13,
   "metadata": {
    "collapsed": false
   },
   "outputs": [
    {
     "name": "stdout",
     "output_type": "stream",
     "text": [
      "(1712, 9)\n"
     ]
    },
    {
     "data": {
      "text/html": [
       "<div>\n",
       "<table border=\"1\" class=\"dataframe\">\n",
       "  <thead>\n",
       "    <tr style=\"text-align: right;\">\n",
       "      <th></th>\n",
       "      <th>datetime</th>\n",
       "      <th>season</th>\n",
       "      <th>holiday</th>\n",
       "      <th>workingday</th>\n",
       "      <th>weather</th>\n",
       "      <th>temp</th>\n",
       "      <th>atemp</th>\n",
       "      <th>humidity</th>\n",
       "      <th>windspeed</th>\n",
       "      <th>tod</th>\n",
       "    </tr>\n",
       "  </thead>\n",
       "  <tbody>\n",
       "    <tr>\n",
       "      <th>0</th>\n",
       "      <td>2011-01-17 00:00:00</td>\n",
       "      <td>1</td>\n",
       "      <td>1</td>\n",
       "      <td>0</td>\n",
       "      <td>2</td>\n",
       "      <td>8.20</td>\n",
       "      <td>9.850</td>\n",
       "      <td>47</td>\n",
       "      <td>15.0013</td>\n",
       "      <td>0</td>\n",
       "    </tr>\n",
       "    <tr>\n",
       "      <th>1</th>\n",
       "      <td>2011-01-17 01:00:00</td>\n",
       "      <td>1</td>\n",
       "      <td>1</td>\n",
       "      <td>0</td>\n",
       "      <td>2</td>\n",
       "      <td>8.20</td>\n",
       "      <td>9.850</td>\n",
       "      <td>44</td>\n",
       "      <td>12.9980</td>\n",
       "      <td>1</td>\n",
       "    </tr>\n",
       "    <tr>\n",
       "      <th>2</th>\n",
       "      <td>2011-01-17 02:00:00</td>\n",
       "      <td>1</td>\n",
       "      <td>1</td>\n",
       "      <td>0</td>\n",
       "      <td>2</td>\n",
       "      <td>7.38</td>\n",
       "      <td>8.335</td>\n",
       "      <td>43</td>\n",
       "      <td>16.9979</td>\n",
       "      <td>2</td>\n",
       "    </tr>\n",
       "    <tr>\n",
       "      <th>3</th>\n",
       "      <td>2011-01-17 03:00:00</td>\n",
       "      <td>1</td>\n",
       "      <td>1</td>\n",
       "      <td>0</td>\n",
       "      <td>2</td>\n",
       "      <td>7.38</td>\n",
       "      <td>9.090</td>\n",
       "      <td>43</td>\n",
       "      <td>12.9980</td>\n",
       "      <td>3</td>\n",
       "    </tr>\n",
       "    <tr>\n",
       "      <th>4</th>\n",
       "      <td>2011-01-17 04:00:00</td>\n",
       "      <td>1</td>\n",
       "      <td>1</td>\n",
       "      <td>0</td>\n",
       "      <td>2</td>\n",
       "      <td>7.38</td>\n",
       "      <td>9.850</td>\n",
       "      <td>43</td>\n",
       "      <td>8.9981</td>\n",
       "      <td>4</td>\n",
       "    </tr>\n",
       "  </tbody>\n",
       "</table>\n",
       "</div>"
      ],
      "text/plain": [
       "              datetime  season  holiday  workingday  weather  temp  atemp  \\\n",
       "0  2011-01-17 00:00:00       1        1           0        2  8.20  9.850   \n",
       "1  2011-01-17 01:00:00       1        1           0        2  8.20  9.850   \n",
       "2  2011-01-17 02:00:00       1        1           0        2  7.38  8.335   \n",
       "3  2011-01-17 03:00:00       1        1           0        2  7.38  9.090   \n",
       "4  2011-01-17 04:00:00       1        1           0        2  7.38  9.850   \n",
       "\n",
       "   humidity  windspeed  tod  \n",
       "0        47    15.0013    0  \n",
       "1        44    12.9980    1  \n",
       "2        43    16.9979    2  \n",
       "3        43    12.9980    3  \n",
       "4        43     8.9981    4  "
      ]
     },
     "execution_count": 13,
     "metadata": {},
     "output_type": "execute_result"
    }
   ],
   "source": [
    "# read in the test data\n",
    "test_df = pd.read_csv('test_hw5.csv', header=0)\n",
    "print(test_df.shape)\n",
    "# add the new feature(s) into the test data\n",
    "test_df['tod'] = test_df['datetime'].map(hour_of_day)\n",
    "test_df.head()"
   ]
  },
  {
   "cell_type": "code",
   "execution_count": 14,
   "metadata": {
    "collapsed": false
   },
   "outputs": [
    {
     "data": {
      "text/html": [
       "<div>\n",
       "<table border=\"1\" class=\"dataframe\">\n",
       "  <thead>\n",
       "    <tr style=\"text-align: right;\">\n",
       "      <th></th>\n",
       "      <th>datetime</th>\n",
       "      <th>season</th>\n",
       "      <th>holiday</th>\n",
       "      <th>workingday</th>\n",
       "      <th>weather</th>\n",
       "      <th>temp</th>\n",
       "      <th>atemp</th>\n",
       "      <th>humidity</th>\n",
       "      <th>windspeed</th>\n",
       "      <th>tod</th>\n",
       "      <th>count</th>\n",
       "    </tr>\n",
       "  </thead>\n",
       "  <tbody>\n",
       "    <tr>\n",
       "      <th>0</th>\n",
       "      <td>2011-01-17 00:00:00</td>\n",
       "      <td>1</td>\n",
       "      <td>1</td>\n",
       "      <td>0</td>\n",
       "      <td>2</td>\n",
       "      <td>8.20</td>\n",
       "      <td>9.850</td>\n",
       "      <td>47</td>\n",
       "      <td>15.0013</td>\n",
       "      <td>0</td>\n",
       "      <td>50.733333</td>\n",
       "    </tr>\n",
       "    <tr>\n",
       "      <th>1</th>\n",
       "      <td>2011-01-17 01:00:00</td>\n",
       "      <td>1</td>\n",
       "      <td>1</td>\n",
       "      <td>0</td>\n",
       "      <td>2</td>\n",
       "      <td>8.20</td>\n",
       "      <td>9.850</td>\n",
       "      <td>44</td>\n",
       "      <td>12.9980</td>\n",
       "      <td>1</td>\n",
       "      <td>50.733333</td>\n",
       "    </tr>\n",
       "    <tr>\n",
       "      <th>2</th>\n",
       "      <td>2011-01-17 02:00:00</td>\n",
       "      <td>1</td>\n",
       "      <td>1</td>\n",
       "      <td>0</td>\n",
       "      <td>2</td>\n",
       "      <td>7.38</td>\n",
       "      <td>8.335</td>\n",
       "      <td>43</td>\n",
       "      <td>16.9979</td>\n",
       "      <td>2</td>\n",
       "      <td>31.321429</td>\n",
       "    </tr>\n",
       "    <tr>\n",
       "      <th>3</th>\n",
       "      <td>2011-01-17 03:00:00</td>\n",
       "      <td>1</td>\n",
       "      <td>1</td>\n",
       "      <td>0</td>\n",
       "      <td>2</td>\n",
       "      <td>7.38</td>\n",
       "      <td>9.090</td>\n",
       "      <td>43</td>\n",
       "      <td>12.9980</td>\n",
       "      <td>3</td>\n",
       "      <td>13.500000</td>\n",
       "    </tr>\n",
       "    <tr>\n",
       "      <th>4</th>\n",
       "      <td>2011-01-17 04:00:00</td>\n",
       "      <td>1</td>\n",
       "      <td>1</td>\n",
       "      <td>0</td>\n",
       "      <td>2</td>\n",
       "      <td>7.38</td>\n",
       "      <td>9.850</td>\n",
       "      <td>43</td>\n",
       "      <td>8.9981</td>\n",
       "      <td>4</td>\n",
       "      <td>7.000000</td>\n",
       "    </tr>\n",
       "  </tbody>\n",
       "</table>\n",
       "</div>"
      ],
      "text/plain": [
       "              datetime  season  holiday  workingday  weather  temp  atemp  \\\n",
       "0  2011-01-17 00:00:00       1        1           0        2  8.20  9.850   \n",
       "1  2011-01-17 01:00:00       1        1           0        2  8.20  9.850   \n",
       "2  2011-01-17 02:00:00       1        1           0        2  7.38  8.335   \n",
       "3  2011-01-17 03:00:00       1        1           0        2  7.38  9.090   \n",
       "4  2011-01-17 04:00:00       1        1           0        2  7.38  9.850   \n",
       "\n",
       "   humidity  windspeed  tod      count  \n",
       "0        47    15.0013    0  50.733333  \n",
       "1        44    12.9980    1  50.733333  \n",
       "2        43    16.9979    2  31.321429  \n",
       "3        43    12.9980    3  13.500000  \n",
       "4        43     8.9981    4   7.000000  "
      ]
     },
     "execution_count": 14,
     "metadata": {},
     "output_type": "execute_result"
    }
   ],
   "source": [
    "# fit the casual and register model to the test data\n",
    "# note: using the selected columns from before\n",
    "\n",
    "#apply to the training data, results show grid search does not provide good accuracy for test, so I plan to use\n",
    "# decision tree parameter 10 rather than 100 because 100 is obtained from grid search while 10 shows the plot above \n",
    "#well\n",
    "\n",
    "#pred_train_casual = clf_casual.predict(train_df[col])\n",
    "#pred_train_casual = model_casual.predict(train_df[col])\n",
    "\n",
    "#pred_train_registered = clf_casual.predict(train_df[col])\n",
    "#pred_train_registered = model_registered.predict(train_df[col])\n",
    "\n",
    "#pred_train_count=pred_train_casual+pred_train_registered\n",
    "#print(pred_train_count)\n",
    "\n",
    "#print (pred_train_count)\n",
    "#print(pred_train_count.shape)\n",
    "#train_df.head()\n",
    "#plt.hold('on')\n",
    "#plt.plot(range(24),pred_train_count[0:24])\n",
    "#plt.plot(range(24),train_df['count'][0:24])\n",
    "#plt.hold('off')\n",
    "#plt.legend(['prediction','actual'])\n",
    "\n",
    "# score the model (PROBABLY OVERFITTING)\n",
    "#rms = np.sqrt(np.mean(np.square(pred_train_count - train_df['count'])))\n",
    "#print(\"RMS error (likely overfitting):\",rms)\n",
    "\n",
    "#according to grid search, we get min-split-example=100 is the best; but using above code to test training set,\n",
    "# it shows RMS 180; but if using min-split-example=10 which is tried in individual decision tree\n",
    "# model (model-casual and registered), the above code shows RMS for training set is 39; so after so many trials,\n",
    "# I decide to use model fit with split-example=10\n",
    "\n",
    "# apply to the test data\n",
    "pred_test_casual = model_casual.predict(test_df[col])\n",
    "\n",
    "pred_test_registered = model_registered.predict(test_df[col])\n",
    "\n",
    "pred_test_count=pred_test_casual+pred_test_registered\n",
    "test_df['count'] = pred_test_count\n",
    "\n",
    "test_df.head()\n",
    "# save as a csv with the header 'count'\n",
    "#out_df = test_df.to_csv('out_hw5.csv', index=True, index_label='id', header=True, columns=['count'])"
   ]
  },
  {
   "cell_type": "code",
   "execution_count": 15,
   "metadata": {
    "collapsed": true
   },
   "outputs": [],
   "source": [
    "# the next part is applying random forest"
   ]
  },
  {
   "cell_type": "code",
   "execution_count": 16,
   "metadata": {
    "collapsed": false
   },
   "outputs": [
    {
     "name": "stdout",
     "output_type": "stream",
     "text": [
      "RMS error (likely overfitting): 7.80340101265\n"
     ]
    },
    {
     "data": {
      "image/png": "[encoded data removed]",
      "text/plain": [
       "<matplotlib.figure.Figure at 0xdaf1d0>"
      ]
     },
     "metadata": {},
     "output_type": "display_data"
    }
   ],
   "source": [
    "from sklearn.ensemble import AdaBoostClassifier\n",
    "from sklearn.tree import DecisionTreeClassifier\n",
    "clf_casual = AdaBoostClassifier(DecisionTreeClassifier(min_samples_split=10),n_estimators=100)\n",
    "clf_casual=clf_casual.fit(train_df[col], train_df['casual'])\n",
    "\n",
    "clf_registered = AdaBoostClassifier(DecisionTreeClassifier(min_samples_split=10),n_estimators=100)\n",
    "clf_registered = clf_registered.fit( train_df[col], train_df['registered'])\n",
    "\n",
    "# observe the prediction (on the training data: LIKELY OVERFITTING)\n",
    "pred_rf_registered = clf_registered.predict(train_df[col])\n",
    "pred_rf_casual = clf_casual.predict(train_df[col])\n",
    "pred_rf_count=pred_rf_registered+pred_rf_casual\n",
    "plt.hold('on')\n",
    "plt.plot(range(24),pred_rf_count[0:24])\n",
    "plt.plot(range(24),train_df['count'][0:24])\n",
    "plt.hold('off')\n",
    "plt.legend(['prediction','actual'])\n",
    "\n",
    "# score the model (PROBABLY OVERFITTING)\n",
    "rms = np.sqrt(np.mean(np.square(pred_rf_count - train_df['count'])))\n",
    "print(\"RMS error (likely overfitting):\",rms)\n"
   ]
  },
  {
   "cell_type": "code",
   "execution_count": 17,
   "metadata": {
    "collapsed": true
   },
   "outputs": [],
   "source": [
    "# the above random forest method get the lowest RMS =14 for TRAINING SET; i do not have test set result to compare\n",
    "# so just print out the predicted test result based on this random forest method "
   ]
  },
  {
   "cell_type": "code",
   "execution_count": 18,
   "metadata": {
    "collapsed": false
   },
   "outputs": [
    {
     "data": {
      "text/html": [
       "<div>\n",
       "<table border=\"1\" class=\"dataframe\">\n",
       "  <thead>\n",
       "    <tr style=\"text-align: right;\">\n",
       "      <th></th>\n",
       "      <th>datetime</th>\n",
       "      <th>season</th>\n",
       "      <th>holiday</th>\n",
       "      <th>workingday</th>\n",
       "      <th>weather</th>\n",
       "      <th>temp</th>\n",
       "      <th>atemp</th>\n",
       "      <th>humidity</th>\n",
       "      <th>windspeed</th>\n",
       "      <th>tod</th>\n",
       "      <th>count</th>\n",
       "    </tr>\n",
       "  </thead>\n",
       "  <tbody>\n",
       "    <tr>\n",
       "      <th>0</th>\n",
       "      <td>2011-01-17 00:00:00</td>\n",
       "      <td>1</td>\n",
       "      <td>1</td>\n",
       "      <td>0</td>\n",
       "      <td>2</td>\n",
       "      <td>8.20</td>\n",
       "      <td>9.850</td>\n",
       "      <td>47</td>\n",
       "      <td>15.0013</td>\n",
       "      <td>0</td>\n",
       "      <td>25</td>\n",
       "    </tr>\n",
       "    <tr>\n",
       "      <th>1</th>\n",
       "      <td>2011-01-17 01:00:00</td>\n",
       "      <td>1</td>\n",
       "      <td>1</td>\n",
       "      <td>0</td>\n",
       "      <td>2</td>\n",
       "      <td>8.20</td>\n",
       "      <td>9.850</td>\n",
       "      <td>44</td>\n",
       "      <td>12.9980</td>\n",
       "      <td>1</td>\n",
       "      <td>45</td>\n",
       "    </tr>\n",
       "    <tr>\n",
       "      <th>2</th>\n",
       "      <td>2011-01-17 02:00:00</td>\n",
       "      <td>1</td>\n",
       "      <td>1</td>\n",
       "      <td>0</td>\n",
       "      <td>2</td>\n",
       "      <td>7.38</td>\n",
       "      <td>8.335</td>\n",
       "      <td>43</td>\n",
       "      <td>16.9979</td>\n",
       "      <td>2</td>\n",
       "      <td>19</td>\n",
       "    </tr>\n",
       "    <tr>\n",
       "      <th>3</th>\n",
       "      <td>2011-01-17 03:00:00</td>\n",
       "      <td>1</td>\n",
       "      <td>1</td>\n",
       "      <td>0</td>\n",
       "      <td>2</td>\n",
       "      <td>7.38</td>\n",
       "      <td>9.090</td>\n",
       "      <td>43</td>\n",
       "      <td>12.9980</td>\n",
       "      <td>3</td>\n",
       "      <td>3</td>\n",
       "    </tr>\n",
       "    <tr>\n",
       "      <th>4</th>\n",
       "      <td>2011-01-17 04:00:00</td>\n",
       "      <td>1</td>\n",
       "      <td>1</td>\n",
       "      <td>0</td>\n",
       "      <td>2</td>\n",
       "      <td>7.38</td>\n",
       "      <td>9.850</td>\n",
       "      <td>43</td>\n",
       "      <td>8.9981</td>\n",
       "      <td>4</td>\n",
       "      <td>3</td>\n",
       "    </tr>\n",
       "  </tbody>\n",
       "</table>\n",
       "</div>"
      ],
      "text/plain": [
       "              datetime  season  holiday  workingday  weather  temp  atemp  \\\n",
       "0  2011-01-17 00:00:00       1        1           0        2  8.20  9.850   \n",
       "1  2011-01-17 01:00:00       1        1           0        2  8.20  9.850   \n",
       "2  2011-01-17 02:00:00       1        1           0        2  7.38  8.335   \n",
       "3  2011-01-17 03:00:00       1        1           0        2  7.38  9.090   \n",
       "4  2011-01-17 04:00:00       1        1           0        2  7.38  9.850   \n",
       "\n",
       "   humidity  windspeed  tod  count  \n",
       "0        47    15.0013    0     25  \n",
       "1        44    12.9980    1     45  \n",
       "2        43    16.9979    2     19  \n",
       "3        43    12.9980    3      3  \n",
       "4        43     8.9981    4      3  "
      ]
     },
     "execution_count": 18,
     "metadata": {},
     "output_type": "execute_result"
    }
   ],
   "source": [
    "pred_test_casual = clf_casual.predict(test_df[col])\n",
    "\n",
    "pred_test_registered = clf_registered.predict(test_df[col])\n",
    "\n",
    "pred_test_count=pred_test_casual+pred_test_registered\n",
    "test_df['count'] = pred_test_count\n",
    "\n",
    "test_df.head()"
   ]
  },
  {
   "cell_type": "code",
   "execution_count": 19,
   "metadata": {
    "collapsed": true
   },
   "outputs": [],
   "source": [
    "# The above result seems more reasonable than using decision tree only: very few borrow bikes on 00:00 then less in 1 am\n",
    "# count = 25, 19 is more reasonable than count=50, 51 (above decision tree result); need you to verify and determine \n",
    "# which method is good; so I do not output the test file which should be added at the end"
   ]
  },
  {
   "cell_type": "code",
   "execution_count": 20,
   "metadata": {
    "collapsed": true
   },
   "outputs": [],
   "source": [
    "out_df = test_df.to_csv('out_hw5_update.csv', index=True, index_label='id', header=True, columns=['count'])"
   ]
  },
  {
   "cell_type": "code",
   "execution_count": null,
   "metadata": {
    "collapsed": true
   },
   "outputs": [],
   "source": []
  },
  {
   "cell_type": "code",
   "execution_count": null,
   "metadata": {
    "collapsed": true
   },
   "outputs": [],
   "source": []
  }
 ],
 "metadata": {
  "kernelspec": {
   "display_name": "Python 3",
   "language": "python",
   "name": "python3"
  },
  "language_info": {
   "codemirror_mode": {
    "name": "ipython",
    "version": 3
   },
   "file_extension": ".py",
   "mimetype": "text/x-python",
   "name": "python",
   "nbconvert_exporter": "python",
   "pygments_lexer": "ipython3",
   "version": "3.4.3"
  }
 },
 "nbformat": 4,
 "nbformat_minor": 0
}
