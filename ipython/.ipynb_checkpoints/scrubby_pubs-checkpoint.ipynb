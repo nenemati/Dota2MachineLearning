{
 "cells": [
  {
   "cell_type": "markdown",
   "metadata": {},
   "source": [
    "# Scrubby Pubs - Win Predictor for Dota2"
   ]
  },
  {
   "cell_type": "code",
   "execution_count": 4,
   "metadata": {
    "collapsed": false
   },
   "outputs": [],
   "source": [
    "import pandas as pd\n",
    "import numpy as np\n",
    "import csv as csv\n",
    "from sklearn.tree import DecisionTreeRegressor\n",
    "from sklearn.cross_validation import train_test_split\n",
    "from datetime import datetime\n",
    "from sklearn.svm import SVC\n",
    "from sklearn.ensemble import RandomForestRegressor, GradientBoostingRegressor\n",
    "from sklearn import tree, neighbors, linear_model\n",
    "import matplotlib.pyplot as plt\n",
    "import warnings\n",
    "\n",
    "# To suppress some deprecation warnings\n",
    "warnings.filterwarnings('ignore')\n",
    "%matplotlib inline"
   ]
  },
  {
   "cell_type": "markdown",
   "metadata": {},
   "source": [
    "# Loading the Match Data\n",
    "Columns:\n",
    "* match_id : each match has a unique match_id \n",
    "* radiant_win [what we are trying to predict] : True if Radiant (team 1) won, Falst if Radiant lost \n",
    "* duration : match length (not used)\n",
    "* hero_x_id : id of the xth hero in the match (10 heroes per match, 1-5 are Radiant (team 1), 6-10 are Dire (team 2)\n",
    "* hero_x_feature : concrete values earned by xth hero in regards to a specific feature (gpm, xpm, kills, etc.)"
   ]
  },
  {
   "cell_type": "code",
   "execution_count": 6,
   "metadata": {
    "collapsed": false
   },
   "outputs": [
    {
     "name": "stdout",
     "output_type": "stream",
     "text": [
      "(10957, 63)\n"
     ]
    },
    {
     "data": {
      "text/html": [
       "<div>\n",
       "<table border=\"1\" class=\"dataframe\">\n",
       "  <thead>\n",
       "    <tr style=\"text-align: right;\">\n",
       "      <th></th>\n",
       "      <th>match_id</th>\n",
       "      <th>team_1_win</th>\n",
       "      <th>duration</th>\n",
       "      <th>hero_1_id</th>\n",
       "      <th>hero_2_id</th>\n",
       "      <th>hero_3_id</th>\n",
       "      <th>hero_4_id</th>\n",
       "      <th>hero_5_id</th>\n",
       "      <th>hero_6_id</th>\n",
       "      <th>hero_7_id</th>\n",
       "      <th>...</th>\n",
       "      <th>hero_1_assists</th>\n",
       "      <th>hero_2_assists</th>\n",
       "      <th>hero_3_assists</th>\n",
       "      <th>hero_4_assists</th>\n",
       "      <th>hero_5_assists</th>\n",
       "      <th>hero_6_assists</th>\n",
       "      <th>hero_7_assists</th>\n",
       "      <th>hero_8_assists</th>\n",
       "      <th>hero_9_assists</th>\n",
       "      <th>hero_10_assists</th>\n",
       "    </tr>\n",
       "  </thead>\n",
       "  <tbody>\n",
       "    <tr>\n",
       "      <th>0</th>\n",
       "      <td>1885069276</td>\n",
       "      <td>True</td>\n",
       "      <td>3038</td>\n",
       "      <td>4</td>\n",
       "      <td>70</td>\n",
       "      <td>43</td>\n",
       "      <td>100</td>\n",
       "      <td>68</td>\n",
       "      <td>67</td>\n",
       "      <td>41</td>\n",
       "      <td>...</td>\n",
       "      <td>12</td>\n",
       "      <td>13</td>\n",
       "      <td>18</td>\n",
       "      <td>17</td>\n",
       "      <td>21</td>\n",
       "      <td>22</td>\n",
       "      <td>11</td>\n",
       "      <td>18</td>\n",
       "      <td>17</td>\n",
       "      <td>19</td>\n",
       "    </tr>\n",
       "    <tr>\n",
       "      <th>1</th>\n",
       "      <td>1885069277</td>\n",
       "      <td>False</td>\n",
       "      <td>1576</td>\n",
       "      <td>13</td>\n",
       "      <td>95</td>\n",
       "      <td>47</td>\n",
       "      <td>73</td>\n",
       "      <td>52</td>\n",
       "      <td>14</td>\n",
       "      <td>53</td>\n",
       "      <td>...</td>\n",
       "      <td>7</td>\n",
       "      <td>1</td>\n",
       "      <td>5</td>\n",
       "      <td>2</td>\n",
       "      <td>2</td>\n",
       "      <td>11</td>\n",
       "      <td>4</td>\n",
       "      <td>13</td>\n",
       "      <td>6</td>\n",
       "      <td>10</td>\n",
       "    </tr>\n",
       "    <tr>\n",
       "      <th>2</th>\n",
       "      <td>1885069278</td>\n",
       "      <td>True</td>\n",
       "      <td>3022</td>\n",
       "      <td>28</td>\n",
       "      <td>21</td>\n",
       "      <td>52</td>\n",
       "      <td>74</td>\n",
       "      <td>112</td>\n",
       "      <td>5</td>\n",
       "      <td>56</td>\n",
       "      <td>...</td>\n",
       "      <td>17</td>\n",
       "      <td>15</td>\n",
       "      <td>26</td>\n",
       "      <td>17</td>\n",
       "      <td>16</td>\n",
       "      <td>30</td>\n",
       "      <td>11</td>\n",
       "      <td>13</td>\n",
       "      <td>11</td>\n",
       "      <td>15</td>\n",
       "    </tr>\n",
       "    <tr>\n",
       "      <th>3</th>\n",
       "      <td>1885069280</td>\n",
       "      <td>True</td>\n",
       "      <td>3270</td>\n",
       "      <td>102</td>\n",
       "      <td>86</td>\n",
       "      <td>21</td>\n",
       "      <td>11</td>\n",
       "      <td>44</td>\n",
       "      <td>22</td>\n",
       "      <td>41</td>\n",
       "      <td>...</td>\n",
       "      <td>12</td>\n",
       "      <td>13</td>\n",
       "      <td>12</td>\n",
       "      <td>10</td>\n",
       "      <td>12</td>\n",
       "      <td>15</td>\n",
       "      <td>10</td>\n",
       "      <td>5</td>\n",
       "      <td>11</td>\n",
       "      <td>10</td>\n",
       "    </tr>\n",
       "    <tr>\n",
       "      <th>4</th>\n",
       "      <td>1885069281</td>\n",
       "      <td>False</td>\n",
       "      <td>3094</td>\n",
       "      <td>5</td>\n",
       "      <td>46</td>\n",
       "      <td>4</td>\n",
       "      <td>68</td>\n",
       "      <td>74</td>\n",
       "      <td>41</td>\n",
       "      <td>102</td>\n",
       "      <td>...</td>\n",
       "      <td>22</td>\n",
       "      <td>10</td>\n",
       "      <td>7</td>\n",
       "      <td>18</td>\n",
       "      <td>10</td>\n",
       "      <td>11</td>\n",
       "      <td>12</td>\n",
       "      <td>20</td>\n",
       "      <td>20</td>\n",
       "      <td>19</td>\n",
       "    </tr>\n",
       "  </tbody>\n",
       "</table>\n",
       "<p>5 rows × 63 columns</p>\n",
       "</div>"
      ],
      "text/plain": [
       "     match_id team_1_win  duration  hero_1_id  hero_2_id  hero_3_id  \\\n",
       "0  1885069276       True      3038          4         70         43   \n",
       "1  1885069277      False      1576         13         95         47   \n",
       "2  1885069278       True      3022         28         21         52   \n",
       "3  1885069280       True      3270        102         86         21   \n",
       "4  1885069281      False      3094          5         46          4   \n",
       "\n",
       "   hero_4_id  hero_5_id  hero_6_id  hero_7_id       ...         \\\n",
       "0        100         68         67         41       ...          \n",
       "1         73         52         14         53       ...          \n",
       "2         74        112          5         56       ...          \n",
       "3         11         44         22         41       ...          \n",
       "4         68         74         41        102       ...          \n",
       "\n",
       "   hero_1_assists  hero_2_assists  hero_3_assists  hero_4_assists  \\\n",
       "0              12              13              18              17   \n",
       "1               7               1               5               2   \n",
       "2              17              15              26              17   \n",
       "3              12              13              12              10   \n",
       "4              22              10               7              18   \n",
       "\n",
       "   hero_5_assists  hero_6_assists  hero_7_assists  hero_8_assists  \\\n",
       "0              21              22              11              18   \n",
       "1               2              11               4              13   \n",
       "2              16              30              11              13   \n",
       "3              12              15              10               5   \n",
       "4              10              11              12              20   \n",
       "\n",
       "   hero_9_assists  hero_10_assists  \n",
       "0              17               19  \n",
       "1               6               10  \n",
       "2              11               15  \n",
       "3              11               10  \n",
       "4              20               19  \n",
       "\n",
       "[5 rows x 63 columns]"
      ]
     },
     "execution_count": 6,
     "metadata": {},
     "output_type": "execute_result"
    }
   ],
   "source": [
    "data_df = pd.read_csv('data4.csv', header=0)\n",
    "data_df.columns = ['match_id', 'radiant_win', 'duration', 'hero_1_id', 'hero_2_id', 'hero_3_id', 'hero_4_id', 'hero_5_id', 'hero_6_id', 'hero_7_id', 'hero_8_id', 'hero_9_id', 'hero_10_id', \n",
    "                   'hero_1_gpm', 'hero_2_gpm', 'hero_3_gpm', 'hero_4_gpm', 'hero_5_gpm', 'hero_6_gpm', 'hero_7_gpm', 'hero_8_gpm', 'hero_9_gpm', 'hero_10_gpm',\n",
    "                   'hero_1_xpm', 'hero_2_xpm', 'hero_3_xpm', 'hero_4_xpm', 'hero_5_xpm', 'hero_6_xpm', 'hero_7_xpm', 'hero_8_xpm', 'hero_9_xpm', 'hero_10_xpm',\n",
    "                   'hero_1_kills', 'hero_2_kills', 'hero_3_kills', 'hero_4_kills', 'hero_5_kills', 'hero_6_kills', 'hero_7_kills', 'hero_8_kills', 'hero_9_kills', 'hero_10_kills',\n",
    "                   'hero_1_deaths', 'hero_2_deaths', 'hero_3_deaths', 'hero_4_deaths', 'hero_5_deaths', 'hero_6_deaths', 'hero_7_deaths', 'hero_8_deaths', 'hero_9_deaths', 'hero_10_deaths',\n",
    "                   'hero_1_assists', 'hero_2_assists', 'hero_3_assists', 'hero_4_assists', 'hero_5_assists', 'hero_6_assists', 'hero_7_assists', 'hero_8_assists', 'hero_9_assists', 'hero_10_assists']\n",
    "\n",
    "print(data_df.shape)\n",
    "data_df.head()"
   ]
  },
  {
   "cell_type": "markdown",
   "metadata": {},
   "source": [
    "# Loading the Hero Data\n",
    "Columns:\n",
    "* id : Hero's unique id \n",
    "* name : Hero's unique name\n",
    "* atrributes [carry...initiator] : Scores in the range 0-3 that explain how \"good\" a hero is at a specific role, 3 meaning best"
   ]
  },
  {
   "cell_type": "code",
   "execution_count": 11,
   "metadata": {
    "collapsed": false
   },
   "outputs": [
    {
     "name": "stdout",
     "output_type": "stream",
     "text": [
      "(112, 11)\n"
     ]
    },
    {
     "data": {
      "text/html": [
       "<div>\n",
       "<table border=\"1\" class=\"dataframe\">\n",
       "  <thead>\n",
       "    <tr style=\"text-align: right;\">\n",
       "      <th></th>\n",
       "      <th>id</th>\n",
       "      <th>name</th>\n",
       "      <th>carry</th>\n",
       "      <th>support</th>\n",
       "      <th>nuker</th>\n",
       "      <th>disabler</th>\n",
       "      <th>jungler</th>\n",
       "      <th>durable</th>\n",
       "      <th>escape</th>\n",
       "      <th>pusher</th>\n",
       "      <th>initiator</th>\n",
       "    </tr>\n",
       "  </thead>\n",
       "  <tbody>\n",
       "    <tr>\n",
       "      <th>0</th>\n",
       "      <td>0</td>\n",
       "      <td>NaN</td>\n",
       "      <td>0</td>\n",
       "      <td>0</td>\n",
       "      <td>0</td>\n",
       "      <td>0</td>\n",
       "      <td>0</td>\n",
       "      <td>0</td>\n",
       "      <td>0</td>\n",
       "      <td>0</td>\n",
       "      <td>0</td>\n",
       "    </tr>\n",
       "    <tr>\n",
       "      <th>1</th>\n",
       "      <td>1</td>\n",
       "      <td>Anti-Mage</td>\n",
       "      <td>3</td>\n",
       "      <td>0</td>\n",
       "      <td>1</td>\n",
       "      <td>0</td>\n",
       "      <td>0</td>\n",
       "      <td>0</td>\n",
       "      <td>3</td>\n",
       "      <td>0</td>\n",
       "      <td>0</td>\n",
       "    </tr>\n",
       "    <tr>\n",
       "      <th>2</th>\n",
       "      <td>2</td>\n",
       "      <td>Axe</td>\n",
       "      <td>0</td>\n",
       "      <td>0</td>\n",
       "      <td>0</td>\n",
       "      <td>2</td>\n",
       "      <td>2</td>\n",
       "      <td>3</td>\n",
       "      <td>0</td>\n",
       "      <td>0</td>\n",
       "      <td>3</td>\n",
       "    </tr>\n",
       "    <tr>\n",
       "      <th>3</th>\n",
       "      <td>3</td>\n",
       "      <td>Bane</td>\n",
       "      <td>0</td>\n",
       "      <td>2</td>\n",
       "      <td>1</td>\n",
       "      <td>3</td>\n",
       "      <td>0</td>\n",
       "      <td>1</td>\n",
       "      <td>0</td>\n",
       "      <td>0</td>\n",
       "      <td>0</td>\n",
       "    </tr>\n",
       "    <tr>\n",
       "      <th>4</th>\n",
       "      <td>4</td>\n",
       "      <td>Bloodseeker</td>\n",
       "      <td>1</td>\n",
       "      <td>0</td>\n",
       "      <td>1</td>\n",
       "      <td>1</td>\n",
       "      <td>1</td>\n",
       "      <td>0</td>\n",
       "      <td>0</td>\n",
       "      <td>0</td>\n",
       "      <td>1</td>\n",
       "    </tr>\n",
       "  </tbody>\n",
       "</table>\n",
       "</div>"
      ],
      "text/plain": [
       "   id         name  carry  support  nuker  disabler  jungler  durable  escape  \\\n",
       "0   0          NaN      0        0      0         0        0        0       0   \n",
       "1   1    Anti-Mage      3        0      1         0        0        0       3   \n",
       "2   2          Axe      0        0      0         2        2        3       0   \n",
       "3   3         Bane      0        2      1         3        0        1       0   \n",
       "4   4  Bloodseeker      1        0      1         1        1        0       0   \n",
       "\n",
       "   pusher  initiator  \n",
       "0       0          0  \n",
       "1       0          0  \n",
       "2       0          3  \n",
       "3       0          0  \n",
       "4       0          1  "
      ]
     },
     "execution_count": 11,
     "metadata": {},
     "output_type": "execute_result"
    }
   ],
   "source": [
    "hero_df = pd.read_csv('heroes_data.csv', header=0)\n",
    "hero_df.columns = ['id', 'name', 'carry', 'support', 'nuker', 'disabler', 'jungler', 'durable', 'escape', 'pusher', 'initiator']\n",
    "\n",
    "print(hero_df.shape)\n",
    "hero_df.head()"
   ]
  },
  {
   "cell_type": "markdown",
   "metadata": {},
   "source": [
    "# Adding Some Hero Features\n",
    "We loop through all of our data to calculate values for each Hero.\n",
    "\n",
    "* Winrate : A hero's win probability (won games / total games)\n",
    "* Experience [earned] per Minute (xpm) : A Hero's average xpm over all games\n",
    "* Gold [earned] per Minute (gpm) : A Hero's  average gpm over all games\n",
    "* Kills : Average number of kills a Hero gets (larger numbers are better)\n",
    "* Deaths : Average number of times a Hero dies (smaller numbers are better)\n",
    "* Assists : Average number of assists a Hero gets"
   ]
  },
  {
   "cell_type": "code",
   "execution_count": null,
   "metadata": {
    "collapsed": true
   },
   "outputs": [],
   "source": [
    "def calculate_winrate(hero_id):\n",
    "    wins = 0\n",
    "    games = 0\n",
    "    \n",
    "    for row in data_df.iterrows():\n",
    "        radiant = [row[1]['hero_1_id'], row[1]['hero_2_id'], row[1]['hero_3_id'], row[1]['hero_4_id'], row[1]['hero_5_id']]\n",
    "        dire = [row[1]['hero_6_id'], row[1]['hero_7_id'], row[1]['hero_8_id'], row[1]['hero_9_id'], row[1]['hero_10_id']]\n",
    "        if(hero_id in radiant or hero_id in dire):\n",
    "            games += 1\n",
    "            if(hero_id in radiant and row[1]['radiant_win']):\n",
    "                wins += 1\n",
    "            elif(hero_id in dire and not row[1]['radiant_win']):\n",
    "                wins += 1\n",
    "    if(games == 0):\n",
    "        return 0\n",
    "    return wins/games"
   ]
  },
  {
   "cell_type": "code",
   "execution_count": null,
   "metadata": {
    "collapsed": false
   },
   "outputs": [],
   "source": [
    "def calculate_averageHeroAttribute(attribute, hero_id):\n",
    "    attribute_total = 0\n",
    "    games = 0\n",
    "    \n",
    "    for row in data_df.iterrows():\n",
    "        teams = [row[1]['hero_1_id'], row[1]['hero_2_id'], row[1]['hero_3_id'], row[1]['hero_4_id'], row[1]['hero_5_id'], row[1]['hero_6_id'], row[1]['hero_7_id'], row[1]['hero_8_id'], row[1]['hero_9_id'], row[1]['hero_10_id']]\n",
    "        if(hero_id in teams):\n",
    "             games += 1\n",
    "             index = teams.index(hero_id) + 1\n",
    "             attribute_total += row[1]['hero_' + str(index) + '_' + attribute]\n",
    "    if(games == 0):\n",
    "        return 0\n",
    "    return attribute_total/games"
   ]
  },
  {
   "cell_type": "code",
   "execution_count": null,
   "metadata": {
    "collapsed": true
   },
   "outputs": [],
   "source": [
    "hero_df['winrate'] = hero_df.apply(lambda row: calculate_winrate(row['id']), axis=1)\n",
    "hero_df['xpm']     = hero_df.apply(lambda row: calculate_averageHeroFeature('xpm', row['id']), axis=1)\n",
    "hero_df['gpm']     = hero_df.apply(lambda row: calculate_averageHeroFeature('gpm', row['id']), axis=1)\n",
    "hero_df['kills']   = hero_df.apply(lambda row: calculate_averageHeroFeature('kills', row['id']), axis=1)\n",
    "hero_df['deaths']  = hero_df.apply(lambda row: calculate_averageHeroFeature('deaths', row['id']), axis=1)\n",
    "hero_df['assists'] = hero_df.apply(lambda row: calculate_averageHeroFeature('assists', row['id']), axis=1)\n",
    "\n",
    "#hero_df.to_csv('heroes_data_extended.csv')\n",
    "\n",
    "#Converting dataframe to a map so we can use it easier below\n",
    "hero_map = { }\n",
    "\n",
    "for n in hero_df.iterrows():\n",
    "    hero_map[n[1]['id']] = n[1]"
   ]
  },
  {
   "cell_type": "markdown",
   "metadata": {},
   "source": [
    "# Creating and Extracting New Features\n",
    "Calculating Team's score for each attribute (carry, support, gpm, kills, etc):\n",
    "* total : Team's total value (sum) for an attribute\n",
    "* max : Team's max value (hero with highest value) for an attribute\n",
    "* min : Team's min value (hero with lowest value) for an attribute\n",
    "* std : Team's standard deviation for an attribute\n",
    "* mean : Team's average for an attribute"
   ]
  },
  {
   "cell_type": "code",
   "execution_count": null,
   "metadata": {
    "collapsed": false,
    "scrolled": false
   },
   "outputs": [],
   "source": [
    "def helper_function(feature, h1, h2, h3, h4, h5):\n",
    "    return [hero_map[h1][feature], hero_map[h2][feature], hero_map[h3][feature], hero_map[h4][feature], hero_map[h5][feature]]\n",
    "\n",
    "def calculate_feature_total(feature, h1, h2, h3, h4, h5):\n",
    "    return sum(helper_function(feature, h1, h2, h3, h4, h5))\n",
    "\n",
    "def calculate_feature_max(feature, h1, h2, h3, h4, h5):\n",
    "    return max(helper_function(feature, h1, h2, h3, h4, h5))\n",
    "\n",
    "def calculate_feature_min(feature, h1, h2, h3, h4, h5):\n",
    "    return min(helper_function(feature, h1, h2, h3, h4, h5))\n",
    "\n",
    "def calculate_feature_std(feature, h1, h2, h3, h4, h5):\n",
    "    return np.std(helper_function(feature, h1, h2, h3, h4, h5))\n",
    "\n",
    "def calculate_feature_mean(feature, h1, h2, h3, h4, h5):\n",
    "    return calculate_feature_total(feature, h1, h2, h3, h4, h5)/5\n",
    "\n",
    "features = ['carry', 'support', 'nuker', 'disabler', 'jungler', 'durable', 'escape', 'pusher', 'initiator', 'xpm', 'gpm', 'kills', 'deaths', 'assists']\n",
    "col = []\n",
    "for i in range(len(features)):\n",
    "    #calculate for radiant\n",
    "    data_df['radiant_' + features[i] + '_total']  = data_df.apply(lambda row: calculate_feature_total(features[i], row['hero_1_id'], row['hero_2_id'], row['hero_3_id'], row['hero_4_id'], row['hero_5_id']), axis=1)\n",
    "    data_df['radiant_' + features[i] + '_max']    = data_df.apply(lambda row: calculate_feature_max(features[i], row['hero_1_id'], row['hero_2_id'], row['hero_3_id'], row['hero_4_id'], row['hero_5_id']), axis=1)\n",
    "    data_df['radiant_' + features[i] + '_min']    = data_df.apply(lambda row: calculate_feature_min(features[i], row['hero_1_id'], row['hero_2_id'], row['hero_3_id'], row['hero_4_id'], row['hero_5_id']), axis=1)\n",
    "    data_df['radiant_' + features[i] + '_mean']   = data_df.apply(lambda row: calculate_feature_mean(features[i], row['hero_1_id'], row['hero_2_id'], row['hero_3_id'], row['hero_4_id'], row['hero_5_id']), axis=1)\n",
    "    data_df['radiant_' + features[i] + '_std']    = data_df.apply(lambda row: calculate_feature_std(features[i], row['hero_1_id'], row['hero_2_id'], row['hero_3_id'], row['hero_4_id'], row['hero_5_id']), axis=1)    \n",
    "    #calculate for dire\n",
    "    data_df['dire_'    + features[i] + '_total']  = data_df.apply(lambda row: calculate_feature_total(features[i], row['hero_6_id'], row['hero_7_id'], row['hero_8_id'], row['hero_9_id'], row['hero_10_id']), axis=1)\n",
    "    data_df['dire_'    + features[i] + '_max']    = data_df.apply(lambda row: calculate_feature_max(features[i], row['hero_6_id'], row['hero_7_id'], row['hero_8_id'], row['hero_9_id'], row['hero_10_id']), axis=1)\n",
    "    data_df['dire_'    + features[i] + '_min']    = data_df.apply(lambda row: calculate_feature_min(features[i], row['hero_6_id'], row['hero_7_id'], row['hero_8_id'], row['hero_9_id'], row['hero_10_id']), axis=1)\n",
    "    data_df['dire_'    + features[i] + '_mean']   = data_df.apply(lambda row: calculate_feature_mean(features[i], row['hero_6_id'], row['hero_7_id'], row['hero_8_id'], row['hero_9_id'], row['hero_10_id']), axis=1)\n",
    "    data_df['dire_'    + features[i] + '_std']    = data_df.apply(lambda row: calculate_feature_std(features[i], row['hero_6_id'], row['hero_7_id'], row['hero_8_id'], row['hero_9_id'], row['hero_10_id']), axis=1)\n",
    "    #throw everything into our col\n",
    "    col.append('radiant_' + features[i] + '_total')\n",
    "    col.append('radiant_' + features[i] + '_max')\n",
    "    col.append('radiant_' + features[i] + '_min')\n",
    "    col.append('radiant_' + features[i] + '_mean')\n",
    "    col.append('radiant_' + features[i] + '_std')\n",
    "    col.append('dire_' + features[i] + '_total')\n",
    "    col.append('dire_' + features[i] + '_max')\n",
    "    col.append('dire_' + features[i] + '_min')\n",
    "    col.append('dire_' + features[i] + '_mean')\n",
    "    col.append('dire_' + features[i] + '_std')\n",
    "    \n",
    "data_df.head()"
   ]
  },
  {
   "cell_type": "markdown",
   "metadata": {},
   "source": [
    "# Split Dataset into 2/3s train 1/3 test\n",
    "Now that we have all the features we want, we can split the data (done this was just so we don't have to readd the features later)"
   ]
  },
  {
   "cell_type": "code",
   "execution_count": null,
   "metadata": {
    "collapsed": true
   },
   "outputs": [],
   "source": [
    "# Split the dataset 2/3s train 1/3 test\n",
    "train_df, test_df = train_test_split(\n",
    "    data_df, test_size=0.33333333333333333333, random_state=0)"
   ]
  },
  {
   "cell_type": "code",
   "execution_count": null,
   "metadata": {
    "collapsed": false
   },
   "outputs": [],
   "source": [
    "\n"
   ]
  },
  {
   "cell_type": "markdown",
   "metadata": {},
   "source": [
    "## cross validation for model checking"
   ]
  },
  {
   "cell_type": "code",
   "execution_count": null,
   "metadata": {
    "collapsed": false
   },
   "outputs": [],
   "source": [
    "from sklearn.grid_search import GridSearchCV\n",
    "from sklearn import datasets\n",
    "from sklearn.cross_validation import train_test_split\n",
    "from sklearn.grid_search import GridSearchCV\n",
    "from sklearn.metrics import classification_report\n",
    "from sklearn.svm import SVC\n",
    "from sklearn import tree, neighbors, linear_model\n",
    "\n",
    "score = 'precision'\n",
    "\n",
    "print(\"# Tuning hyper-parameters for %s\" % score)\n",
    "\n",
    "# Set the parameters by cross-validation\n",
    "\n",
    "#parameters for K-nearest neighbors     \n",
    "#tuned_parametersKN = [{'n_neighbors': []}]\n",
    "\n",
    "#parameters for Decision Tree\n",
    "#tuned_parametersDT = [{'min_samples_split': [1e-5, 1e-4, 1e-3, 1e-2, 1e-1, 1, 10, 100, 1000, 10000, 1000000] }]\n",
    "\n",
    "#use 1 through 100 for k values\n",
    "#for n in range(1, 25):\n",
    " #   tuned_parametersKN[0]['n_neighbors'].append(n)\n",
    "\n",
    "#parameters for LogisticRegression()\n",
    "tuned_parametersLR = [{'C': [1, 10, 100, 1000, 10000, 1000000], 'penalty': ['L1']}]\n",
    "    \n",
    "# clf = GridSearchCV(SVC(C=1), tuned_parametersSVM, cv=5, scoring=score)\n",
    "#clf = GridSearchCV(neighbors.KNeighborsClassifier(), tuned_parametersKN, cv=5, scoring=score)\n",
    "clf = GridSearchCV(linear_model.LogisticRegression(), tuned_parametersLR, cv=5, scoring=score)\n",
    "#clf = GridSearchCV(tree.DecisionTreeClassifier(), tuned_parametersDT, cv=5, scoring=score)\n",
    "\n",
    "clf.fit(train_df[col], train_df['radiant_win'])\n",
    "\n",
    "print(\"Best parameters set found on development set:\")\n",
    "print()\n",
    "print(clf.best_estimator_)\n",
    "print()\n",
    "print(\"Grid scores on development set:\")\n",
    "print()\n",
    "for params, mean_score, scores in clf.grid_scores_:\n",
    "    print(\"%0.3f (+/-%0.03f) for %r\"\n",
    "          % (mean_score, scores.std() / 2, params))"
   ]
  },
  {
   "cell_type": "code",
   "execution_count": null,
   "metadata": {
    "collapsed": false
   },
   "outputs": [],
   "source": [
    "print('hi')"
   ]
  },
  {
   "cell_type": "code",
   "execution_count": null,
   "metadata": {
    "collapsed": false
   },
   "outputs": [],
   "source": [
    "#classifier = neighbors.KNeighborsClassifier(algorithm='auto', leaf_size=30, metric='minkowski',\n",
    "          #  metric_params=None, n_neighbors=3, p=2, weights='uniform')\n",
    "\n",
    "#classifier = tree.DecisionTreeClassifier(class_weight=None, criterion='gini', max_depth=None,\n",
    "       #     max_features=None, max_leaf_nodes=None, min_samples_leaf=1,\n",
    "        #    min_samples_split=1000, min_weight_fraction_leaf=0.0,\n",
    "         #   random_state=None, splitter='best')\n",
    "            \n",
    "classifier = linear_model.LogisticRegression(C=0.1, class_weight=None, dual=False, fit_intercept=True,\n",
    "          intercept_scaling=1, max_iter=100, multi_class='ovr',\n",
    "          penalty='L1', random_state=None, solver='liblinear', tol=0.0001,\n",
    "          verbose=0)\n",
    "\n",
    "classifier.fit(train_df[col], train_df['radiant_win'])\n",
    "\n",
    "y_true, y_pred = test_df['radiant_win'], classifier.predict(test_df[col])\n",
    "\n",
    "print(classification_report(y_true, y_pred))"
   ]
  },
  {
   "cell_type": "code",
   "execution_count": null,
   "metadata": {
    "collapsed": false
   },
   "outputs": [],
   "source": [
    "print(classifier.coef_)"
   ]
  },
  {
   "cell_type": "code",
   "execution_count": null,
   "metadata": {
    "collapsed": true
   },
   "outputs": [],
   "source": []
  }
 ],
 "metadata": {
  "kernelspec": {
   "display_name": "Python 3",
   "language": "python",
   "name": "python3"
  },
  "language_info": {
   "codemirror_mode": {
    "name": "ipython",
    "version": 3
   },
   "file_extension": ".py",
   "mimetype": "text/x-python",
   "name": "python",
   "nbconvert_exporter": "python",
   "pygments_lexer": "ipython3",
   "version": "3.5.0"
  }
 },
 "nbformat": 4,
 "nbformat_minor": 0
}
